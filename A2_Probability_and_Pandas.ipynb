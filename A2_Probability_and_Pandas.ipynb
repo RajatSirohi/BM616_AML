{
  "nbformat": 4,
  "nbformat_minor": 0,
  "metadata": {
    "colab": {
      "name": "A2_Probability_and_Pandas.ipynb",
      "provenance": [],
      "collapsed_sections": []
    },
    "kernelspec": {
      "name": "python3",
      "display_name": "Python 3"
    }
  },
  "cells": [
    {
      "cell_type": "code",
      "metadata": {
        "id": "YdLv9rdQA9NC",
        "colab_type": "code",
        "colab": {}
      },
      "source": [
        "##This block is only for access of files using google drive\n",
        "\n",
        "from pydrive.auth import GoogleAuth\n",
        "from pydrive.drive import GoogleDrive\n",
        "from google.colab import auth\n",
        "from oauth2client.client import GoogleCredentials\n",
        "auth.authenticate_user()\n",
        "gauth = GoogleAuth()\n",
        "gauth.credentials = GoogleCredentials.get_application_default()\n",
        "drive = GoogleDrive(gauth)\n",
        "\n",
        "#For accessing any file from google drive, first share it for public access. Copy its id from last part of its address. Then specify the two lines below.\n",
        "downloaded = drive.CreateFile({'id':\"1SfhGTuRhjpKY68G0itF9x7pNVgSFncCs\"})   # replace the id with id of file you want to access\n",
        "downloaded.GetContentFile('pima-diabetes.csv')        # replace the file name with your file"
      ],
      "execution_count": 0,
      "outputs": []
    },
    {
      "cell_type": "code",
      "metadata": {
        "id": "xoFAcyppBQWu",
        "colab_type": "code",
        "outputId": "f4d42ddf-a7c1-4366-e9a4-8f73814fb17e",
        "colab": {
          "base_uri": "https://localhost:8080/",
          "height": 408
        }
      },
      "source": [
        "import pandas as pd\n",
        "\n",
        "#loading PIMA dataset\n",
        "pima_df = pd.read_csv('pima-diabetes.csv', delimiter = ',', header = 0)\n",
        "pima_df"
      ],
      "execution_count": 0,
      "outputs": [
        {
          "output_type": "execute_result",
          "data": {
            "text/html": [
              "<div>\n",
              "<style scoped>\n",
              "    .dataframe tbody tr th:only-of-type {\n",
              "        vertical-align: middle;\n",
              "    }\n",
              "\n",
              "    .dataframe tbody tr th {\n",
              "        vertical-align: top;\n",
              "    }\n",
              "\n",
              "    .dataframe thead th {\n",
              "        text-align: right;\n",
              "    }\n",
              "</style>\n",
              "<table border=\"1\" class=\"dataframe\">\n",
              "  <thead>\n",
              "    <tr style=\"text-align: right;\">\n",
              "      <th></th>\n",
              "      <th>Pregnancies</th>\n",
              "      <th>Glucose</th>\n",
              "      <th>BloodPressure</th>\n",
              "      <th>SkinThickness</th>\n",
              "      <th>Insulin</th>\n",
              "      <th>BMI</th>\n",
              "      <th>DiabetesPedigreeFunction</th>\n",
              "      <th>Age</th>\n",
              "      <th>Outcome</th>\n",
              "    </tr>\n",
              "  </thead>\n",
              "  <tbody>\n",
              "    <tr>\n",
              "      <th>0</th>\n",
              "      <td>6</td>\n",
              "      <td>148</td>\n",
              "      <td>72</td>\n",
              "      <td>35.0</td>\n",
              "      <td>156</td>\n",
              "      <td>33.6</td>\n",
              "      <td>0.627</td>\n",
              "      <td>50</td>\n",
              "      <td>1</td>\n",
              "    </tr>\n",
              "    <tr>\n",
              "      <th>1</th>\n",
              "      <td>1</td>\n",
              "      <td>85</td>\n",
              "      <td>66</td>\n",
              "      <td>29.0</td>\n",
              "      <td>156</td>\n",
              "      <td>26.6</td>\n",
              "      <td>0.351</td>\n",
              "      <td>31</td>\n",
              "      <td>0</td>\n",
              "    </tr>\n",
              "    <tr>\n",
              "      <th>2</th>\n",
              "      <td>8</td>\n",
              "      <td>183</td>\n",
              "      <td>64</td>\n",
              "      <td>29.0</td>\n",
              "      <td>156</td>\n",
              "      <td>23.3</td>\n",
              "      <td>0.672</td>\n",
              "      <td>32</td>\n",
              "      <td>1</td>\n",
              "    </tr>\n",
              "    <tr>\n",
              "      <th>3</th>\n",
              "      <td>1</td>\n",
              "      <td>89</td>\n",
              "      <td>66</td>\n",
              "      <td>23.0</td>\n",
              "      <td>94</td>\n",
              "      <td>28.1</td>\n",
              "      <td>0.167</td>\n",
              "      <td>21</td>\n",
              "      <td>0</td>\n",
              "    </tr>\n",
              "    <tr>\n",
              "      <th>4</th>\n",
              "      <td>0</td>\n",
              "      <td>137</td>\n",
              "      <td>40</td>\n",
              "      <td>35.0</td>\n",
              "      <td>168</td>\n",
              "      <td>43.1</td>\n",
              "      <td>2.288</td>\n",
              "      <td>33</td>\n",
              "      <td>1</td>\n",
              "    </tr>\n",
              "    <tr>\n",
              "      <th>...</th>\n",
              "      <td>...</td>\n",
              "      <td>...</td>\n",
              "      <td>...</td>\n",
              "      <td>...</td>\n",
              "      <td>...</td>\n",
              "      <td>...</td>\n",
              "      <td>...</td>\n",
              "      <td>...</td>\n",
              "      <td>...</td>\n",
              "    </tr>\n",
              "    <tr>\n",
              "      <th>763</th>\n",
              "      <td>10</td>\n",
              "      <td>101</td>\n",
              "      <td>76</td>\n",
              "      <td>48.0</td>\n",
              "      <td>180</td>\n",
              "      <td>32.9</td>\n",
              "      <td>0.171</td>\n",
              "      <td>63</td>\n",
              "      <td>0</td>\n",
              "    </tr>\n",
              "    <tr>\n",
              "      <th>764</th>\n",
              "      <td>2</td>\n",
              "      <td>122</td>\n",
              "      <td>70</td>\n",
              "      <td>27.0</td>\n",
              "      <td>156</td>\n",
              "      <td>36.8</td>\n",
              "      <td>0.340</td>\n",
              "      <td>27</td>\n",
              "      <td>0</td>\n",
              "    </tr>\n",
              "    <tr>\n",
              "      <th>765</th>\n",
              "      <td>5</td>\n",
              "      <td>121</td>\n",
              "      <td>72</td>\n",
              "      <td>23.0</td>\n",
              "      <td>112</td>\n",
              "      <td>26.2</td>\n",
              "      <td>0.245</td>\n",
              "      <td>30</td>\n",
              "      <td>0</td>\n",
              "    </tr>\n",
              "    <tr>\n",
              "      <th>766</th>\n",
              "      <td>1</td>\n",
              "      <td>126</td>\n",
              "      <td>60</td>\n",
              "      <td>29.0</td>\n",
              "      <td>156</td>\n",
              "      <td>30.1</td>\n",
              "      <td>0.349</td>\n",
              "      <td>47</td>\n",
              "      <td>1</td>\n",
              "    </tr>\n",
              "    <tr>\n",
              "      <th>767</th>\n",
              "      <td>1</td>\n",
              "      <td>93</td>\n",
              "      <td>70</td>\n",
              "      <td>31.0</td>\n",
              "      <td>156</td>\n",
              "      <td>30.4</td>\n",
              "      <td>0.315</td>\n",
              "      <td>23</td>\n",
              "      <td>0</td>\n",
              "    </tr>\n",
              "  </tbody>\n",
              "</table>\n",
              "<p>768 rows × 9 columns</p>\n",
              "</div>"
            ],
            "text/plain": [
              "     Pregnancies  Glucose  ...  Age  Outcome\n",
              "0              6      148  ...   50        1\n",
              "1              1       85  ...   31        0\n",
              "2              8      183  ...   32        1\n",
              "3              1       89  ...   21        0\n",
              "4              0      137  ...   33        1\n",
              "..           ...      ...  ...  ...      ...\n",
              "763           10      101  ...   63        0\n",
              "764            2      122  ...   27        0\n",
              "765            5      121  ...   30        0\n",
              "766            1      126  ...   47        1\n",
              "767            1       93  ...   23        0\n",
              "\n",
              "[768 rows x 9 columns]"
            ]
          },
          "metadata": {
            "tags": []
          },
          "execution_count": 19
        }
      ]
    },
    {
      "cell_type": "code",
      "metadata": {
        "id": "R2cNYwLrB10n",
        "colab_type": "code",
        "colab": {}
      },
      "source": [
        "import matplotlib.pyplot as plt"
      ],
      "execution_count": 0,
      "outputs": []
    },
    {
      "cell_type": "code",
      "metadata": {
        "id": "zOPMqG8_Bnrm",
        "colab_type": "code",
        "outputId": "540464d6-3168-4917-b61f-18c78d8f4d72",
        "colab": {
          "base_uri": "https://localhost:8080/",
          "height": 279
        }
      },
      "source": [
        "#Plotting one column against another\n",
        "plt.scatter(pima_df['Glucose'], pima_df['BloodPressure'])\n",
        "plt.xlabel('Glucose');\n",
        "plt.ylabel('BloodPressure')\n",
        "plt.grid(True)"
      ],
      "execution_count": 0,
      "outputs": [
        {
          "output_type": "display_data",
          "data": {
            "image/png": "[encoded data removed]",
            "text/plain": [
              "<Figure size 432x288 with 1 Axes>"
            ]
          },
          "metadata": {
            "tags": []
          }
        }
      ]
    },
    {
      "cell_type": "markdown",
      "metadata": {
        "id": "twL1EllXDV3_",
        "colab_type": "text"
      },
      "source": [
        "#Assignment 1 (0.5)\n",
        "1. Note that some values on Skin thickness and Insulin are zero. Replace zeros with mean skin thickness and mean Insulin values in the original pima_df table. Do not include zero entries during mean calculation\n",
        "\n",
        "2. Scatter plot every column against BMI \n",
        "\n"
      ]
    },
    {
      "cell_type": "code",
      "metadata": {
        "id": "Nj0lmDyZFFPw",
        "colab_type": "code",
        "outputId": "574ba9c6-9602-4c6a-c897-2efeb0d5abbd",
        "colab": {
          "base_uri": "https://localhost:8080/",
          "height": 408
        }
      },
      "source": [
        "import numpy as np\n",
        "\n",
        "#replacing 0 with NaN to exclude them from mean\n",
        "\n",
        "x = pima_df['SkinThickness'].replace(0, np.NaN)\n",
        "y = pima_df['Insulin'].replace(0, np.NaN)\n",
        "\n",
        "#replacing \"0\" with mean value\n",
        "\n",
        "pima_df.loc[pima_df[\"SkinThickness\"]==0, \"SkinThickness\"] = round(x.mean())\n",
        "pima_df.loc[pima_df[\"Insulin\"]==0, \"Insulin\"] = round(y.mean())\n",
        "\n",
        "#to save the values:\n",
        "\n",
        "pima_df.to_csv(\"pima_diabetes.csv\", index=False)\n",
        "pima_df"
      ],
      "execution_count": 0,
      "outputs": [
        {
          "output_type": "execute_result",
          "data": {
            "text/html": [
              "<div>\n",
              "<style scoped>\n",
              "    .dataframe tbody tr th:only-of-type {\n",
              "        vertical-align: middle;\n",
              "    }\n",
              "\n",
              "    .dataframe tbody tr th {\n",
              "        vertical-align: top;\n",
              "    }\n",
              "\n",
              "    .dataframe thead th {\n",
              "        text-align: right;\n",
              "    }\n",
              "</style>\n",
              "<table border=\"1\" class=\"dataframe\">\n",
              "  <thead>\n",
              "    <tr style=\"text-align: right;\">\n",
              "      <th></th>\n",
              "      <th>Pregnancies</th>\n",
              "      <th>Glucose</th>\n",
              "      <th>BloodPressure</th>\n",
              "      <th>SkinThickness</th>\n",
              "      <th>Insulin</th>\n",
              "      <th>BMI</th>\n",
              "      <th>DiabetesPedigreeFunction</th>\n",
              "      <th>Age</th>\n",
              "      <th>Outcome</th>\n",
              "    </tr>\n",
              "  </thead>\n",
              "  <tbody>\n",
              "    <tr>\n",
              "      <th>0</th>\n",
              "      <td>6</td>\n",
              "      <td>148</td>\n",
              "      <td>72</td>\n",
              "      <td>35.0</td>\n",
              "      <td>156</td>\n",
              "      <td>33.6</td>\n",
              "      <td>0.627</td>\n",
              "      <td>50</td>\n",
              "      <td>1</td>\n",
              "    </tr>\n",
              "    <tr>\n",
              "      <th>1</th>\n",
              "      <td>1</td>\n",
              "      <td>85</td>\n",
              "      <td>66</td>\n",
              "      <td>29.0</td>\n",
              "      <td>156</td>\n",
              "      <td>26.6</td>\n",
              "      <td>0.351</td>\n",
              "      <td>31</td>\n",
              "      <td>0</td>\n",
              "    </tr>\n",
              "    <tr>\n",
              "      <th>2</th>\n",
              "      <td>8</td>\n",
              "      <td>183</td>\n",
              "      <td>64</td>\n",
              "      <td>29.0</td>\n",
              "      <td>156</td>\n",
              "      <td>23.3</td>\n",
              "      <td>0.672</td>\n",
              "      <td>32</td>\n",
              "      <td>1</td>\n",
              "    </tr>\n",
              "    <tr>\n",
              "      <th>3</th>\n",
              "      <td>1</td>\n",
              "      <td>89</td>\n",
              "      <td>66</td>\n",
              "      <td>23.0</td>\n",
              "      <td>94</td>\n",
              "      <td>28.1</td>\n",
              "      <td>0.167</td>\n",
              "      <td>21</td>\n",
              "      <td>0</td>\n",
              "    </tr>\n",
              "    <tr>\n",
              "      <th>4</th>\n",
              "      <td>0</td>\n",
              "      <td>137</td>\n",
              "      <td>40</td>\n",
              "      <td>35.0</td>\n",
              "      <td>168</td>\n",
              "      <td>43.1</td>\n",
              "      <td>2.288</td>\n",
              "      <td>33</td>\n",
              "      <td>1</td>\n",
              "    </tr>\n",
              "    <tr>\n",
              "      <th>...</th>\n",
              "      <td>...</td>\n",
              "      <td>...</td>\n",
              "      <td>...</td>\n",
              "      <td>...</td>\n",
              "      <td>...</td>\n",
              "      <td>...</td>\n",
              "      <td>...</td>\n",
              "      <td>...</td>\n",
              "      <td>...</td>\n",
              "    </tr>\n",
              "    <tr>\n",
              "      <th>763</th>\n",
              "      <td>10</td>\n",
              "      <td>101</td>\n",
              "      <td>76</td>\n",
              "      <td>48.0</td>\n",
              "      <td>180</td>\n",
              "      <td>32.9</td>\n",
              "      <td>0.171</td>\n",
              "      <td>63</td>\n",
              "      <td>0</td>\n",
              "    </tr>\n",
              "    <tr>\n",
              "      <th>764</th>\n",
              "      <td>2</td>\n",
              "      <td>122</td>\n",
              "      <td>70</td>\n",
              "      <td>27.0</td>\n",
              "      <td>156</td>\n",
              "      <td>36.8</td>\n",
              "      <td>0.340</td>\n",
              "      <td>27</td>\n",
              "      <td>0</td>\n",
              "    </tr>\n",
              "    <tr>\n",
              "      <th>765</th>\n",
              "      <td>5</td>\n",
              "      <td>121</td>\n",
              "      <td>72</td>\n",
              "      <td>23.0</td>\n",
              "      <td>112</td>\n",
              "      <td>26.2</td>\n",
              "      <td>0.245</td>\n",
              "      <td>30</td>\n",
              "      <td>0</td>\n",
              "    </tr>\n",
              "    <tr>\n",
              "      <th>766</th>\n",
              "      <td>1</td>\n",
              "      <td>126</td>\n",
              "      <td>60</td>\n",
              "      <td>29.0</td>\n",
              "      <td>156</td>\n",
              "      <td>30.1</td>\n",
              "      <td>0.349</td>\n",
              "      <td>47</td>\n",
              "      <td>1</td>\n",
              "    </tr>\n",
              "    <tr>\n",
              "      <th>767</th>\n",
              "      <td>1</td>\n",
              "      <td>93</td>\n",
              "      <td>70</td>\n",
              "      <td>31.0</td>\n",
              "      <td>156</td>\n",
              "      <td>30.4</td>\n",
              "      <td>0.315</td>\n",
              "      <td>23</td>\n",
              "      <td>0</td>\n",
              "    </tr>\n",
              "  </tbody>\n",
              "</table>\n",
              "<p>768 rows × 9 columns</p>\n",
              "</div>"
            ],
            "text/plain": [
              "     Pregnancies  Glucose  ...  Age  Outcome\n",
              "0              6      148  ...   50        1\n",
              "1              1       85  ...   31        0\n",
              "2              8      183  ...   32        1\n",
              "3              1       89  ...   21        0\n",
              "4              0      137  ...   33        1\n",
              "..           ...      ...  ...  ...      ...\n",
              "763           10      101  ...   63        0\n",
              "764            2      122  ...   27        0\n",
              "765            5      121  ...   30        0\n",
              "766            1      126  ...   47        1\n",
              "767            1       93  ...   23        0\n",
              "\n",
              "[768 rows x 9 columns]"
            ]
          },
          "metadata": {
            "tags": []
          },
          "execution_count": 22
        }
      ]
    },
    {
      "cell_type": "code",
      "metadata": {
        "id": "RF_m8geMW_a5",
        "colab_type": "code",
        "outputId": "2dfb67f7-cff3-4d05-bd85-d3c723678f8c",
        "colab": {
          "base_uri": "https://localhost:8080/",
          "height": 296
        }
      },
      "source": [
        "#Scatter plot every column against BMI\n",
        "fig = plt.figure()\n",
        "plt.subplot(2,4,1)\n",
        "plt.scatter(pima_df['Glucose'], pima_df['BMI'])\n",
        "plt.xlabel('Glucose');\n",
        "plt.ylabel('BMI')\n",
        "plt.subplot(2,4,2)\n",
        "plt.scatter(pima_df['Pregnancies'], pima_df['BMI'])\n",
        "plt.xlabel('Pregnancies');\n",
        "plt.ylabel('BMI')\n",
        "plt.subplot(2,4,3)\n",
        "plt.scatter(pima_df['BloodPressure'], pima_df['BMI'])\n",
        "plt.xlabel('BloodPressure');\n",
        "plt.ylabel('BMI')\n",
        "plt.subplot(2,4,4)\n",
        "plt.scatter(pima_df['SkinThickness'], pima_df['BMI'])\n",
        "plt.xlabel('SkinThickness');\n",
        "plt.ylabel('BMI')\n",
        "plt.subplot(2,4,5)\n",
        "plt.scatter(pima_df['Insulin'], pima_df['BMI'])\n",
        "plt.xlabel('Insulin');\n",
        "plt.ylabel('BMI')\n",
        "plt.subplot(2,4,6)\n",
        "plt.scatter(pima_df['DiabetesPedigreeFunction'], pima_df['BMI'])\n",
        "plt.xlabel('DiabetesPedigreeFunction');\n",
        "plt.ylabel('BMI')\n",
        "plt.subplot(2,4,7)\n",
        "plt.scatter(pima_df['Age'], pima_df['BMI'])\n",
        "plt.xlabel('Age');\n",
        "plt.ylabel('BMI')\n",
        "plt.subplot(2,4,8)\n",
        "plt.scatter(pima_df['Outcome'], pima_df['BMI'])\n",
        "plt.xlabel('Outcome');\n",
        "plt.ylabel('BMI')\n"
      ],
      "execution_count": 0,
      "outputs": [
        {
          "output_type": "execute_result",
          "data": {
            "text/plain": [
              "Text(0, 0.5, 'BMI')"
            ]
          },
          "metadata": {
            "tags": []
          },
          "execution_count": 23
        },
        {
          "output_type": "display_data",
          "data": {
            "image/png": "[encoded data removed]",
            "text/plain": [
              "<Figure size 432x288 with 8 Axes>"
            ]
          },
          "metadata": {
            "tags": []
          }
        }
      ]
    },
    {
      "cell_type": "markdown",
      "metadata": {
        "id": "RzI2zonrFGgX",
        "colab_type": "text"
      },
      "source": [
        "#Assignment 2 (0.5)\n",
        "3. What is your understanding of the output of the following code? Comment it.\n",
        "4.Write atleast 3 colclusions about the relationships in data that you can derive from the plot.\n"
      ]
    },
    {
      "cell_type": "code",
      "metadata": {
        "id": "CtX96VuNC7It",
        "colab_type": "code",
        "outputId": "2b0a74f9-99ce-4614-ab5f-8a66bb24e222",
        "colab": {
          "base_uri": "https://localhost:8080/",
          "height": 734
        }
      },
      "source": [
        "import seaborn as sn\n",
        "corr_Mat = pima_df.corr()\n",
        "fig, ax = plt.subplots(figsize=(10,10))  \n",
        "sn.heatmap(corr_Mat, annot=True, ax= ax)"
      ],
      "execution_count": 0,
      "outputs": [
        {
          "output_type": "execute_result",
          "data": {
            "text/plain": [
              "<matplotlib.axes._subplots.AxesSubplot at 0x7f69a9e755c0>"
            ]
          },
          "metadata": {
            "tags": []
          },
          "execution_count": 24
        },
        {
          "output_type": "display_data",
          "data": {
            "image/png": "[encoded data removed]",
            "text/plain": [
              "<Figure size 720x720 with 2 Axes>"
            ]
          },
          "metadata": {
            "tags": []
          }
        }
      ]
    },
    {
      "cell_type": "markdown",
      "metadata": {
        "id": "dgJJSOQZJl9Q",
        "colab_type": "text"
      },
      "source": [
        "\n",
        "\n",
        "\n",
        "Ans (3):It is representing correlation between coulmns(Pregnancies,Glucose.. etc) based on given data.\n",
        "\n",
        "Ans (4):\n",
        "\n",
        "A> Darkest colour represents zero correlation between data where as lightest colour represents highest correlation.\n",
        "\n",
        "B> There is neligible relation between Pregnancies and Diabetes Pedigree Function.\n",
        "\n",
        "C>There is 54% relation between Pregnancies and Age.\n",
        "\n",
        "\n",
        "\n",
        "\n",
        "\n",
        "\n",
        "\n",
        "\n",
        "\n",
        "\n"
      ]
    },
    {
      "cell_type": "code",
      "metadata": {
        "id": "z8v6eeEiEh3A",
        "colab_type": "code",
        "outputId": "8ab5ecd3-0719-43f6-bb16-f710a9408032",
        "colab": {
          "base_uri": "https://localhost:8080/",
          "height": 334
        }
      },
      "source": [
        "#Drawing histograms\n",
        "plt.hist(pima_df['Glucose'])"
      ],
      "execution_count": 0,
      "outputs": [
        {
          "output_type": "execute_result",
          "data": {
            "text/plain": [
              "(array([  5.,   0.,   4.,  32., 156., 211., 163.,  95.,  56.,  46.]),\n",
              " array([  0. ,  19.9,  39.8,  59.7,  79.6,  99.5, 119.4, 139.3, 159.2,\n",
              "        179.1, 199. ]),\n",
              " <a list of 10 Patch objects>)"
            ]
          },
          "metadata": {
            "tags": []
          },
          "execution_count": 25
        },
        {
          "output_type": "display_data",
          "data": {
            "image/png": "[encoded data removed]",
            "text/plain": [
              "<Figure size 432x288 with 1 Axes>"
            ]
          },
          "metadata": {
            "tags": []
          }
        }
      ]
    },
    {
      "cell_type": "markdown",
      "metadata": {
        "id": "DTooQvOJGjVH",
        "colab_type": "text"
      },
      "source": [
        "#Assignment 3 (0.5)\n",
        "1. Draw histograms of each column\n",
        "2. Create histogram using the BMI column in four categories as per following figure.\n",
        "![alt text](https://www.vertex42.com/ExcelTemplates/Images/bmi-chart.gif)\n"
      ]
    },
    {
      "cell_type": "code",
      "metadata": {
        "id": "atfQuFY3GDrA",
        "colab_type": "code",
        "outputId": "45b634e0-83b1-48b3-8daa-f6739bc63e51",
        "colab": {
          "base_uri": "https://localhost:8080/",
          "height": 279
        }
      },
      "source": [
        "#histograms of each column\n",
        "plt.subplot(2,4,1)\n",
        "plt.hist(pima_df['Pregnancies'])\n",
        "plt.xlabel('Pregnancies');\n",
        "plt.subplot(2,4,2)\n",
        "plt.hist(pima_df['BloodPressure'])\n",
        "plt.xlabel('BloodPressure');\n",
        "plt.subplot(2,4,3)\n",
        "plt.hist(pima_df['SkinThickness'])\n",
        "plt.xlabel('SkinThickness');\n",
        "plt.subplot(2,4,4)\n",
        "plt.hist(pima_df['Insulin'])\n",
        "plt.xlabel('Insulin');\n",
        "plt.subplot(2,4,5)\n",
        "plt.hist(pima_df['BMI'])\n",
        "plt.xlabel('BMI');\n",
        "plt.subplot(2,4,6)\n",
        "plt.hist(pima_df['DiabetesPedigreeFunction'])\n",
        "plt.xlabel('DiabetesPedigreeFunction');\n",
        "plt.subplot(2,4,7)\n",
        "plt.hist(pima_df['Age'])\n",
        "plt.xlabel('Age');\n",
        "plt.subplot(2,4,8)\n",
        "plt.hist(pima_df['Outcome'])\n",
        "plt.xlabel('Outcome');"
      ],
      "execution_count": 0,
      "outputs": [
        {
          "output_type": "display_data",
          "data": {
            "image/png": "[encoded data removed]",
            "text/plain": [
              "<Figure size 432x288 with 8 Axes>"
            ]
          },
          "metadata": {
            "tags": []
          }
        }
      ]
    },
    {
      "cell_type": "code",
      "metadata": {
        "id": "NaAnZNeSX3e5",
        "colab_type": "code",
        "outputId": "09e38475-18c3-4555-d6ea-1473b5a51058",
        "colab": {
          "base_uri": "https://localhost:8080/",
          "height": 279
        }
      },
      "source": [
        "#histogram using the BMI column in four categories\n",
        "plt.hist(pima_df['BMI'],bins=[0, 18.5], facecolor='blue',label='Underweight')\n",
        "plt.hist(pima_df['BMI'],bins=[18.5,25], facecolor='green',label='Normal')\n",
        "plt.hist(pima_df['BMI'],bins=[25,30], facecolor='yellow',label='Overweight')\n",
        "plt.hist(pima_df['BMI'],bins=[30,pima_df['BMI'].max()], facecolor='pink',label='Obese')\n",
        "plt.xlabel('BMI');\n",
        "plt.ylabel('Frequency');\n",
        "plt.grid(True)"
      ],
      "execution_count": 0,
      "outputs": [
        {
          "output_type": "display_data",
          "data": {
            "image/png": "[encoded data removed]",
            "text/plain": [
              "<Figure size 432x288 with 1 Axes>"
            ]
          },
          "metadata": {
            "tags": []
          }
        }
      ]
    },
    {
      "cell_type": "markdown",
      "metadata": {
        "id": "O7rokB7IH7TL",
        "colab_type": "text"
      },
      "source": [
        "#Following code rolls a fair dice for 10000 times and then plots the histogram of the outcomes."
      ]
    },
    {
      "cell_type": "code",
      "metadata": {
        "id": "ymRthH9LHQq5",
        "colab_type": "code",
        "colab": {}
      },
      "source": [
        "import random \n",
        "import numpy as np"
      ],
      "execution_count": 0,
      "outputs": []
    },
    {
      "cell_type": "code",
      "metadata": {
        "id": "qrRE2RNvHt1P",
        "colab_type": "code",
        "colab": {}
      },
      "source": [
        "def roll_Fair_Die():\n",
        "  return random.randint(1,6);"
      ],
      "execution_count": 0,
      "outputs": []
    },
    {
      "cell_type": "code",
      "metadata": {
        "id": "92XKtfv5HuZX",
        "colab_type": "code",
        "outputId": "11f22df9-547b-46fa-ac6b-6ff2cbb2f873",
        "colab": {
          "base_uri": "https://localhost:8080/",
          "height": 299
        }
      },
      "source": [
        "No_of_Rolls = 10000;\n",
        "No_of_Dies = 1;\n",
        "die_roll = [0]*No_of_Rolls\n",
        "for i in range(0, No_of_Rolls):\n",
        "  for j in range(1,No_of_Dies+1):\n",
        "    die_roll[i] = die_roll[i]+roll_Fair_Die();\n",
        "  die_roll[i] = die_roll[i]/No_of_Dies;\n",
        "\n",
        "plt.hist(die_roll, bins = np.append(np.unique(die_roll), max(np.unique(die_roll))+1))\n",
        "print('Mean = ', np.mean(die_roll))\n",
        "print('Standard Deviation = ',np.std(die_roll))"
      ],
      "execution_count": 0,
      "outputs": [
        {
          "output_type": "stream",
          "text": [
            "Mean =  3.4898\n",
            "Standard Deviation =  1.7130954322512217\n"
          ],
          "name": "stdout"
        },
        {
          "output_type": "display_data",
          "data": {
            "image/png": "[encoded data removed]",
            "text/plain": [
              "<Figure size 432x288 with 1 Axes>"
            ]
          },
          "metadata": {
            "tags": []
          }
        }
      ]
    },
    {
      "cell_type": "markdown",
      "metadata": {
        "id": "-2alT55UIPG_",
        "colab_type": "text"
      },
      "source": [
        "#Assignment 4 (0.5)\n",
        "\n",
        "Write a code for rolling an unfair die that wil produce a histogram as shown here:\n",
        "![alt text](https://i.ibb.co/B3QMWfQ/download.png)\n"
      ]
    },
    {
      "cell_type": "code",
      "metadata": {
        "id": "CKXVo-NJINE1",
        "colab_type": "code",
        "outputId": "7cccc3fe-16d2-44cd-f609-2827c74341eb",
        "colab": {
          "base_uri": "https://localhost:8080/",
          "height": 299
        }
      },
      "source": [
        "sample=[1,1,2,2,3,3,4,4,5,6,6,6]\n",
        "def roll_unFair_Die():\n",
        "  return sample[random.randint(0,11)];\n",
        "\n",
        "No_of_Rolls = 10000;\n",
        "No_of_Dies = 1;\n",
        "die_roll = [0]*No_of_Rolls\n",
        "for i in range(0, No_of_Rolls):\n",
        "  for j in range(1,No_of_Dies+1):\n",
        "    die_roll[i] = die_roll[i]+roll_unFair_Die();\n",
        "  die_roll[i] = die_roll[i]/No_of_Dies;\n",
        "\n",
        "plt.hist(die_roll, bins = np.append(np.unique(die_roll), max(np.unique(die_roll))+1))\n",
        "print('Mean = ', np.mean(die_roll))\n",
        "print('Standard Deviation = ',np.std(die_roll))\n"
      ],
      "execution_count": 0,
      "outputs": [
        {
          "output_type": "stream",
          "text": [
            "Mean =  3.6022\n",
            "Standard Deviation =  1.8029850692670755\n"
          ],
          "name": "stdout"
        },
        {
          "output_type": "display_data",
          "data": {
            "image/png": "[encoded data removed]",
            "text/plain": [
              "<Figure size 432x288 with 1 Axes>"
            ]
          },
          "metadata": {
            "tags": []
          }
        }
      ]
    },
    {
      "cell_type": "markdown",
      "metadata": {
        "id": "3JbMqz1IKb2P",
        "colab_type": "text"
      },
      "source": [
        "#Assignment 5 (1)\n",
        "Write a code to roll 10 fair dies simultaneously. Repeat this process 10000 times. For every roll note the average value of all ten dies. Plot the histogram of the 10000 readings.\n",
        "What is the shape of this histogram?"
      ]
    },
    {
      "cell_type": "code",
      "metadata": {
        "id": "j458vsCuKDWu",
        "colab_type": "code",
        "colab": {}
      },
      "source": [
        "def roll_unFair_Die():\n",
        "  return random.randint(1,6);"
      ],
      "execution_count": 0,
      "outputs": []
    },
    {
      "cell_type": "code",
      "metadata": {
        "id": "h0JXS5r3H0IM",
        "colab_type": "code",
        "outputId": "fae0355b-a184-43b0-946c-3ef7f40ff43e",
        "colab": {
          "base_uri": "https://localhost:8080/",
          "height": 299
        }
      },
      "source": [
        "No_of_Rolls = 10000;\n",
        "No_of_Dies = 10;\n",
        "die_roll = [0]*No_of_Rolls\n",
        "for i in range(0, No_of_Rolls):\n",
        "  for j in range(1,No_of_Dies+1):\n",
        "    die_roll[i] = die_roll[i]+roll_Fair_Die();\n",
        "  die_roll[i] = die_roll[i]/No_of_Dies;\n",
        "\n",
        "plt.hist(die_roll, bins = np.append(np.unique(die_roll), max(np.unique(die_roll))+1))\n",
        "\n",
        "#Average value of dies roll\n",
        "print('Mean = ', np.mean(die_roll))\n",
        "print('Standard Deviation = ',np.std(die_roll))\n"
      ],
      "execution_count": 0,
      "outputs": [
        {
          "output_type": "stream",
          "text": [
            "Mean =  3.5022\n",
            "Standard Deviation =  0.544260195127294\n"
          ],
          "name": "stdout"
        },
        {
          "output_type": "display_data",
          "data": {
            "image/png": "[encoded data removed]",
            "text/plain": [
              "<Figure size 432x288 with 1 Axes>"
            ]
          },
          "metadata": {
            "tags": []
          }
        }
      ]
    },
    {
      "cell_type": "markdown",
      "metadata": {
        "id": "RZOiozCc82V8",
        "colab_type": "text"
      },
      "source": [
        "Shape Of Histogram : Gaussian "
      ]
    },
    {
      "cell_type": "code",
      "metadata": {
        "id": "tqmslLWP4oPe",
        "colab_type": "code",
        "colab": {}
      },
      "source": [
        ""
      ],
      "execution_count": 0,
      "outputs": []
    }
  ]
}